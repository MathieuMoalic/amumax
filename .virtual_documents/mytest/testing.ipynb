get_ipython().run_line_magic("matplotlib", " widget")
get_ipython().run_line_magic("load_ext", " autoreload")
get_ipython().run_line_magic("autoreload", " 2")
from adl import adl,parms
from llyr import op, load_ovf, out_to_zarr, hsl2rgb,get_ovf_parms
from matplotlib import pyplot as plt
import matplotlib.animation as mplanim
import matplotlib as mpl
import numpy as np
import cmocean
from glob import glob
from tqdm.notebook import tqdm


m = op("t1.zarr")
m.p
plt.figure()
plt.imshow(m.B_ext[-1,0,:,:,0])
# plt.plot(m.B_ext[:,0,0,0,1])


plt.figure()
arr = m.m1[1] - m.m2[1]
print(arr.max())
plt.imshow(arr[0,:,:,1])
